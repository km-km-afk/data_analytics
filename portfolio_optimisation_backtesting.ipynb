{
 "cells": [
  {
   "cell_type": "markdown",
   "id": "b34d16c5-f9c9-43b2-b9b6-0f601c6e9ff1",
   "metadata": {},
   "source": [
    "importing libraries and defining the selection criteria(metrics used-market capitalisation,P/E ratio and sector)"
   ]
  },
  {
   "cell_type": "code",
   "execution_count": null,
   "id": "477a61e1-2302-42d8-bd41-76519e877e79",
   "metadata": {},
   "outputs": [],
   "source": [
    "import requests\n",
    "import pandas as pd\n",
    "import numpy as np\n",
    "import yfinance as yf\n",
    "import scipy.optimize as sco\n",
    "import matplotlib.pyplot as plt\n",
    "\n",
    "LARGE_CAP_MIN = 50_000_000_000   \n",
    "MID_CAP_MIN = 10_000_000_000     \n",
    "SMALL_CAP_MIN = 2_000_000_000    \n",
    "\n",
    "PE_MAX = 25  # Max P/E Ratio\n",
    "SECTORS = [\"Technology\", \"Healthcare\", \"Consumer Defensive\", \"Energy\", \"Financials\", \"Industrials\"]"
   ]
  },
  {
   "cell_type": "markdown",
   "id": "c2902a0d-5d0a-4e7f-bf12-ee908f995ff1",
   "metadata": {},
   "source": [
    "downloading S&P500 company list form wikipedia\n",
    "\n",
    "Symbol-Ticker,Security-Company Name,GICS Sector-Industry Sector"
   ]
  },
  {
   "cell_type": "code",
   "execution_count": null,
   "id": "607a342c-54d2-468a-8b8d-b4ffe96ab1e3",
   "metadata": {},
   "outputs": [],
   "source": [
    "#Scraping data from wikipedia\n",
    "def get_sp500_tickers():\n",
    "    url = \"https://en.wikipedia.org/wiki/List_of_S%26P_500_companies\"\n",
    "    tables = pd.read_html(url)\n",
    "    df = tables[0]\n",
    "    #relevant columns\n",
    "    df = df[[\"Symbol\", \"Security\", \"GICS Sector\"]].rename(columns={\"Symbol\": \"symbol\", \"Security\": \"name\", \"GICS Sector\": \"sector\"})\n",
    "\n",
    "    return df"
   ]
  },
  {
   "cell_type": "markdown",
   "id": "d3e0ce37-eb01-4ec7-932f-35f8545f0889",
   "metadata": {},
   "source": [
    "Assigning mock values in this function is useful for testing and development when real financial data is not available or API calls are restricted"
   ]
  },
  {
   "cell_type": "code",
   "execution_count": null,
   "id": "6b6ceb1a-0dbb-43a4-9d37-8c7ba7449c93",
   "metadata": {},
   "outputs": [],
   "source": [
    "#Get Stock Financial Data\n",
    "def get_stock_data(df):\n",
    "    #assigning mock values for market cap,P/E ratio and last dividend\n",
    "    df[\"mktCap\"] = df[\"symbol\"].apply(lambda x: 50_000_000_000 if x[0] < \"I\" else (15_000_000_000 if x[0] < \"R\" else 5_000_000_000)) \n",
    "    df[\"pe\"] = 20 \n",
    "    df[\"lastDiv\"] = 1.5\n",
    "    return df"
   ]
  },
  {
   "cell_type": "markdown",
   "id": "abe3ebfd-df83-4502-b7a3-2fc28772bb09",
   "metadata": {},
   "source": [
    "Apply Stock Filtering Criteria"
   ]
  },
  {
   "cell_type": "code",
   "execution_count": null,
   "id": "18141005-9707-4694-8477-72b9692ed156",
   "metadata": {},
   "outputs": [],
   "source": [
    "def filter_stocks(df):\n",
    "    df = df[(df[\"mktCap\"] >= SMALL_CAP_MIN) &  # Exclude micro-cap stocks\n",
    "            (df[\"pe\"] <= PE_MAX) & \n",
    "            (df[\"lastDiv\"] > 0) & \n",
    "            (df[\"sector\"].isin(SECTORS))]\n",
    "    \n",
    "    # Assign market cap category\n",
    "    df[\"Market_Cap_Category\"] = df[\"mktCap\"].apply(\n",
    "        lambda x: \"Large-Cap\" if x >= LARGE_CAP_MIN else (\"Mid-Cap\" if x >= MID_CAP_MIN else \"Small-Cap\")\n",
    "    )\n",
    "    \n",
    "    return df"
   ]
  },
  {
   "cell_type": "markdown",
   "id": "f0b5002a-a9d3-41f9-9469-1c14ead31c7e",
   "metadata": {},
   "source": [
    "Select 10 Stocks (At Least 3 Per Market Cap & Ensure Sector Diversification)"
   ]
  },
  {
   "cell_type": "code",
   "execution_count": null,
   "id": "7821d286-7b54-447b-acf9-86d1dac36e61",
   "metadata": {},
   "outputs": [],
   "source": [
    "def select_diversified_stocks(df):\n",
    "    selected_stocks = []\n",
    "    sector_count = {}  # To track sector representation\n",
    "    \n",
    "    # Group stocks by Market Cap Category\n",
    "    grouped = df.groupby(\"Market_Cap_Category\")\n",
    "\n",
    "    for category, group in grouped:\n",
    "        group = group.sort_values(by=\"mktCap\", ascending=False)  # Sort by Market Cap\n",
    "        count = 0\n",
    "        \n",
    "        for _, row in group.iterrows():\n",
    "            if count >= 3:\n",
    "                break  # Stop after selecting 3 stocks from this category\n",
    "            \n",
    "            # Ensure sector diversification\n",
    "            if sector_count.get(row[\"sector\"], 0) < 3:  \n",
    "                selected_stocks.append(row[\"symbol\"])\n",
    "                sector_count[row[\"sector\"]] = sector_count.get(row[\"sector\"], 0) + 1\n",
    "                count += 1\n",
    "\n",
    "    # If we have less than 10 stocks, fill remaining slots\n",
    "    if len(selected_stocks) < 10:\n",
    "        remaining_stocks = df[~df[\"symbol\"].isin(selected_stocks)]\n",
    "        for _, row in remaining_stocks.iterrows():\n",
    "            if len(selected_stocks) >= 10:\n",
    "                break\n",
    "            selected_stocks.append(row[\"symbol\"])\n",
    "\n",
    "    return selected_stocks[:10]"
   ]
  },
  {
   "cell_type": "code",
   "execution_count": null,
   "id": "e0da318a-3253-4ee8-b523-c5c5c352c5da",
   "metadata": {},
   "outputs": [],
   "source": [
    "sp500_df = get_sp500_tickers()\n",
    "stock_data_df = get_stock_data(sp500_df)\n",
    "filtered_stocks = filter_stocks(stock_data_df)\n",
    "selected_tickers = select_diversified_stocks(filtered_stocks)\n",
    "\n",
    "print(\"Selected Stocks for Portfolio:\", selected_tickers)"
   ]
  },
  {
   "cell_type": "markdown",
   "id": "15f00f6b-5a8e-4bbc-89ae-d9f17e9f095e",
   "metadata": {},
   "source": [
    "code for selecting portfolio optmisation and weight allocation strategy"
   ]
  },
  {
   "cell_type": "code",
   "execution_count": null,
   "id": "f3f4182a-43b1-4fa9-b1ac-479f929bd635",
   "metadata": {},
   "outputs": [],
   "source": [
    "tickers = selected_tickers  \n",
    "benchmark_ticker = 'SPY'\n",
    "data = yf.download(selected_tickers + [benchmark_ticker], start='2022-01-01')['Close']\n",
    "returns = data.pct_change().dropna()"
   ]
  },
  {
   "cell_type": "code",
   "execution_count": null,
   "id": "eabc4bd4-6a0b-444c-9c72-212da5b52b1b",
   "metadata": {},
   "outputs": [],
   "source": [
    "benchmark_returns = returns[benchmark_ticker]\n",
    "returns = returns[selected_tickers]\n",
    "\n",
    "#mean and cov matrix with only selected_tickers\n",
    "mean_returns = returns.mean()\n",
    "cov_matrix = returns.cov()\n",
    "\n",
    "tickers = selected_tickers  \n",
    "risk_free_rate = 0.02 "
   ]
  },
  {
   "cell_type": "markdown",
   "id": "e8873e56-1e7a-419d-a0ac-2bd0cee1eb3a",
   "metadata": {},
   "source": [
    "so finally we consider all three parameters returns,volatility and sharpe ratio and compute a finall score for all 5 strategies-MVO,EWP,IVP,GMVP,MDP and we use live data to find which strategy would be the best"
   ]
  },
  {
   "cell_type": "code",
   "execution_count": null,
   "id": "66a3cf54-8db0-4090-8e90-045a422fd0fc",
   "metadata": {},
   "outputs": [],
   "source": [
    "data = yf.download(selected_tickers, period='1y')['Close']\n",
    "returns = data.pct_change().dropna()\n",
    "\n",
    "mean_returns = returns.mean()\n",
    "cov_matrix = returns.cov()\n",
    "volatilities = returns.std()\n",
    "risk_free_rate = 0.02\n",
    "rebalance_dates = returns.resample('M').first().index\n",
    "weights_over_time = []\n",
    "\n",
    "#equal weights portfolio\n",
    "def get_portfolio_stats(weights):\n",
    "    port_return = np.dot(weights, mean_returns)\n",
    "    port_vol = np.sqrt(np.dot(weights.T, np.dot(cov_matrix, weights)))\n",
    "    port_sharpe = (port_return - risk_free_rate) / port_vol\n",
    "    return port_return, port_vol, port_sharpe\n",
    "\n",
    "constraints = {'type': 'eq', 'fun': lambda x: np.sum(x) - 1}\n",
    "bounds = tuple((0, 1) for _ in selected_tickers)\n",
    "init_guess = np.array([1/len(selected_tickers)] * len(selected_tickers))\n",
    "\n",
    "ewp_weights = init_guess\n",
    "ewp_ret, ewp_vol, ewp_sharpe = get_portfolio_stats(ewp_weights)\n",
    "\n",
    "#mean variance optimisation(MVO)\n",
    "def negative_sharpe(weights):\n",
    "    return -get_portfolio_stats(weights)[2]\n",
    "\n",
    "opt = sco.minimize(negative_sharpe, init_guess, method='SLSQP', bounds=bounds, constraints=constraints)\n",
    "mvo_weights = opt.x\n",
    "mvo_ret, mvo_vol, mvo_sharpe = get_portfolio_stats(mvo_weights)\n",
    "\n",
    "#GVMP(global minimum variance portfolio)\n",
    "def portfolio_volatility(weights):\n",
    "    return np.sqrt(np.dot(weights.T, np.dot(cov_matrix, weights)))\n",
    "\n",
    "opt = sco.minimize(portfolio_volatility, init_guess, method='SLSQP', bounds=bounds, constraints=constraints)\n",
    "gmvp_weights = opt.x\n",
    "gmvp_ret, gmvp_vol, gmvp_sharpe = get_portfolio_stats(gmvp_weights)\n",
    "\n",
    "#Inverse Volatility Portfolio (IVP)\n",
    "ivp_weights = 1 / volatilities\n",
    "ivp_weights /= ivp_weights.sum()\n",
    "ivp_ret, ivp_vol, ivp_sharpe = get_portfolio_stats(ivp_weights)\n",
    "\n",
    "#Most Diversified Portfolio (MDP)\n",
    "def neg_diversification_ratio(weights):\n",
    "    portfolio_vol = np.sqrt(np.dot(weights.T, np.dot(cov_matrix, weights)))\n",
    "    weighted_vol = np.dot(weights, volatilities)\n",
    "    return -weighted_vol / portfolio_vol\n",
    "\n",
    "opt = sco.minimize(neg_diversification_ratio, init_guess, method='SLSQP', bounds=bounds, constraints=constraints)\n",
    "mdp_weights = opt.x\n",
    "mdp_ret, mdp_vol, mdp_sharpe = get_portfolio_stats(mdp_weights)\n",
    "\n",
    "#Compare all Strategies using the three metrics\n",
    "results = pd.DataFrame({\n",
    "    'Strategy': ['EWP', 'MVO', 'GMVP', 'IVP', 'MDP'],\n",
    "    'Return': [ewp_ret, mvo_ret, gmvp_ret, ivp_ret, mdp_ret],\n",
    "    'Volatility': [ewp_vol, mvo_vol, gmvp_vol, ivp_vol, mdp_vol],\n",
    "    'Sharpe Ratio': [ewp_sharpe,mvo_sharpe,gmvp_sharpe,ivp_sharpe,mdp_sharpe]\n",
    "})\n",
    "\n",
    "#composite score\n",
    "results[\"Return Score\"] = results[\"Return\"] / results[\"Return\"].max()\n",
    "results[\"Sharpe Score\"] = results[\"Sharpe Ratio\"] / results[\"Sharpe Ratio\"].max()\n",
    "results[\"Volatility Score\"] = results[\"Volatility\"].min() / results[\"Volatility\"]\n",
    "\n",
    "\n",
    "metric_weights = [0.4, 0.4, 0.2]\n",
    "results[\"Final Score\"] = (\n",
    "    metric_weights[0] * results[\"Return Score\"] +\n",
    "    metric_weights[1] * results[\"Sharpe Score\"] +\n",
    "    metric_weights[2] * results[\"Volatility Score\"]\n",
    ")\n",
    "\n",
    "best_strategy = results.loc[results[\"Final Score\"].idxmax()]\n",
    "print(\"Best Strategy Based on Live Market Conditions:\", best_strategy[\"Strategy\"])\n",
    "print(results[['Strategy', 'Return', 'Volatility', 'Sharpe Ratio', 'Final Score']])\n",
    "best_strategy=best_strategy[\"Strategy\"]"
   ]
  },
  {
   "cell_type": "markdown",
   "id": "e3614f8f-2ce9-4aab-ba96-94490ec89e76",
   "metadata": {},
   "source": [
    "by considering all the factors and metrics-return,volatility,sharpe ratio and final score we can conclude that GMVP would be the best strategy"
   ]
  },
  {
   "cell_type": "code",
   "execution_count": null,
   "id": "6658d12f-c8ac-45df-a25c-fd1546a4db14",
   "metadata": {},
   "outputs": [],
   "source": [
    "if best_strategy == 'EWP':\n",
    "    selected_weights = ewp_weights\n",
    "elif best_strategy == 'MVO':\n",
    "    selected_weights = mvo_weights\n",
    "elif best_strategy == 'GMVP':\n",
    "    selected_weights = gmvp_weights\n",
    "elif best_strategy == 'IVP':\n",
    "    selected_weights = ivp_weights\n",
    "elif best_strategy == 'MDP':\n",
    "    selected_weights = mdp_weights\n",
    "\n",
    "final_weights = pd.Series(selected_weights, index=selected_tickers)\n",
    "print(\"Optimal Weights for\", best_strategy)\n",
    "print(final_weights)"
   ]
  },
  {
   "cell_type": "markdown",
   "id": "6eb32400-f58f-4634-aa06-92744933ade8",
   "metadata": {},
   "source": [
    "plotting graphs and visual representations of the cumulative returns,portfolio value,drawdown analysis and change in portfolio weights over time "
   ]
  },
  {
   "cell_type": "code",
   "execution_count": null,
   "id": "accb1ae4-6366-4ea1-9ff5-09b965271c4d",
   "metadata": {},
   "outputs": [],
   "source": [
    "start_date = \"2023-01-01\"\n",
    "end_date = \"2025-01-01\"\n",
    "initial_capital = 10000\n",
    "\n",
    "data = yf.download(tickers, start=start_date, end=end_date)['Close']\n",
    "returns = data.pct_change().dropna()\n",
    "rebalance_dates = returns.resample('ME').first().index\n",
    "\n",
    "weights_over_time = []\n",
    "port_returns = []"
   ]
  },
  {
   "cell_type": "code",
   "execution_count": null,
   "id": "6302c689-f153-40c1-9ebd-582e53ab388a",
   "metadata": {},
   "outputs": [],
   "source": [
    "strategy=best_strategy\n",
    "for date in rebalance_dates:\n",
    "    window = returns.loc[:date].tail(60)\n",
    "    if window.shape[0] < 20:\n",
    "        continue\n",
    "\n",
    "    mean_returns = window.mean()\n",
    "    cov_matrix = window.cov()\n",
    "    vol = window.std()\n",
    "    init_guess = np.array([1/len(tickers)] * len(tickers))\n",
    "    bounds = tuple((0, 1) for _ in tickers)\n",
    "    constraints = {'type': 'eq', 'fun': lambda x: np.sum(x) - 1}\n",
    "\n",
    "    #Strategy selection\n",
    "    if strategy == \"GMVP\":\n",
    "        def portfolio_vol(weights):\n",
    "            return np.sqrt(np.dot(weights.T, np.dot(cov_matrix, weights)))\n",
    "        opt = sco.minimize(portfolio_vol, init_guess, method='SLSQP',\n",
    "                           bounds=bounds, constraints=constraints)\n",
    "        weights = opt.x if opt.success else init_guess\n",
    "\n",
    "    elif strategy == \"MDP\":\n",
    "        def risk_budget_objective(weights):\n",
    "            portfolio_vol = np.sqrt(np.dot(weights.T, np.dot(cov_matrix, weights)))\n",
    "            marginal_risk = np.dot(cov_matrix, weights) / portfolio_vol\n",
    "            risk_contributions = weights * marginal_risk\n",
    "            return np.sum((risk_contributions - portfolio_vol / len(tickers)) ** 2)\n",
    "        opt = sco.minimize(risk_budget_objective, init_guess, method='SLSQP',\n",
    "                           bounds=bounds, constraints=constraints)\n",
    "        weights = opt.x if opt.success else init_guess\n",
    "\n",
    "    elif strategy == \"EWP\":\n",
    "        weights = init_guess\n",
    "\n",
    "    elif strategy == \"MVO\":\n",
    "        def negative_sharpe(weights, mean_returns, cov_matrix, risk_free_rate=0.02):\n",
    "            ret = np.dot(weights, mean_returns)\n",
    "            vol = np.sqrt(np.dot(weights.T, np.dot(cov_matrix, weights)))\n",
    "            return -(ret - risk_free_rate) / vol\n",
    "        opt = sco.minimize(negative_sharpe, init_guess, args=(mean_returns, cov_matrix),\n",
    "                           method='SLSQP', bounds=bounds, constraints=constraints)\n",
    "        weights = opt.x if opt.success else init_guess\n",
    "\n",
    "    elif strategy == \"IVP\":\n",
    "        inv_vol = 1 / vol\n",
    "        weights = inv_vol / inv_vol.sum()\n",
    "\n",
    "    else:\n",
    "        raise ValueError(\"Unsupported strategy selected.\")\n",
    "    weights_series = pd.Series(weights, index=tickers, name=date)\n",
    "    weights_over_time.append(weights_series)\n",
    "\n",
    "    next_month_returns = returns.loc[date:].iloc[:21]  # approx 1 month\n",
    "    port_return = (next_month_returns @ weights_series).sum()\n",
    "    port_returns.append([date, port_return])"
   ]
  },
  {
   "cell_type": "code",
   "execution_count": null,
   "id": "0524ce77-3fbe-4719-b590-ff85aa8f7108",
   "metadata": {},
   "outputs": [],
   "source": [
    "weights_df = pd.DataFrame(weights_over_time)\n",
    "returns_df = pd.DataFrame(port_returns, columns=[\"Date\", \"Portfolio_Return\"]).set_index(\"Date\")\n",
    "\n",
    "cumulative_returns = (1 + returns_df[\"Portfolio_Return\"]).cumprod()\n",
    "portfolio_value = initial_capital * cumulative_returns\n",
    "rolling_max = cumulative_returns.cummax()\n",
    "drawdown = (cumulative_returns - rolling_max) / rolling_max"
   ]
  },
  {
   "cell_type": "code",
   "execution_count": null,
   "id": "7dd184ee-909c-4460-bacf-c2cabe3f7ad8",
   "metadata": {},
   "outputs": [],
   "source": [
    "fig, axes = plt.subplots(4, 1, figsize=(14, 18), sharex=True)\n",
    "\n",
    "#Portfolio Weights\n",
    "weights_df.plot.area(ax=axes[0], colormap='tab20')\n",
    "axes[0].set_title(f\"Portfolio Weights Over Time ({strategy})\")\n",
    "axes[0].set_ylabel(\"Weight\")\n",
    "axes[0].grid(True)\n",
    "\n",
    "#Drawdown\n",
    "drawdown.plot(ax=axes[1], color='red', lw=2)\n",
    "axes[1].set_title(f\"Drawdown Over Time ({strategy})\")\n",
    "axes[1].set_ylabel(\"Drawdown\")\n",
    "axes[1].grid(True)\n",
    "\n",
    "#Cumulative Return\n",
    "cumulative_returns.plot(ax=axes[2], color='blue', lw=2)\n",
    "axes[2].set_title(f\"Cumulative Return Over Time ({strategy})\")\n",
    "axes[2].set_ylabel(\"Cumulative Return\")\n",
    "axes[2].grid(True)\n",
    "\n",
    "#Portfolio Value\n",
    "portfolio_value.plot(ax=axes[3], color='green', lw=2)\n",
    "axes[3].set_title(f\"Portfolio Value Over Time (Initial ${initial_capital:,})\")\n",
    "axes[3].set_ylabel(\"Portfolio Value ($)\")\n",
    "axes[3].set_xlabel(\"Date\")\n",
    "axes[3].grid(True)\n",
    "\n",
    "plt.tight_layout()\n",
    "plt.show()"
   ]
  },
  {
   "cell_type": "code",
   "execution_count": null,
   "id": "236ebd60-4479-40c4-8981-a3356ce6c483",
   "metadata": {},
   "outputs": [],
   "source": [
    "def portfolio_returns_from_weights(prices: pd.DataFrame, weights, initial_capital=10000):\n",
    "    returns = prices.pct_change().dropna()\n",
    "    if not isinstance(weights, pd.Series):\n",
    "        weights = pd.Series(weights, index=prices.columns)\n",
    "\n",
    "    #Weighted returns per day\n",
    "    portfolio_returns = (returns * weights).sum(axis=1)\n",
    "    portfolio_value = (1 + portfolio_returns).cumprod() * initial_capital\n",
    "\n",
    "    total_return = portfolio_value.iloc[-1] - initial_capital\n",
    "    return_percentage = (portfolio_value.iloc[-1] / initial_capital - 1) * 100\n",
    "\n",
    "    return {\n",
    "        \"portfolio_returns\": portfolio_returns,\n",
    "        \"portfolio_value\": portfolio_value,\n",
    "        \"total_return\": total_return,\n",
    "        \"return_percentage\": return_percentage\n",
    "    }"
   ]
  },
  {
   "cell_type": "code",
   "execution_count": null,
   "id": "ffb3b2b3-b8c0-4747-ba09-9d597f2c298f",
   "metadata": {},
   "outputs": [],
   "source": [
    "prices = yf.download(tickers, start=\"2023-01-01\", end=\"2025-01-01\")['Close']\n",
    "weights = final_weights\n",
    "result = portfolio_returns_from_weights(prices, weights)\n",
    "\n",
    "print(\"Total Return: $\", round(result['total_return'], 2))\n",
    "print(\"Return Percentage:\", round(result['return_percentage'], 2), \"%\")"
   ]
  }
 ],
 "metadata": {
  "kernelspec": {
   "display_name": "Python 3 (ipykernel)",
   "language": "python",
   "name": "python3"
  },
  "language_info": {
   "codemirror_mode": {
    "name": "ipython",
    "version": 3
   },
   "file_extension": ".py",
   "mimetype": "text/x-python",
   "name": "python",
   "nbconvert_exporter": "python",
   "pygments_lexer": "ipython3",
   "version": "3.12.3"
  }
 },
 "nbformat": 4,
 "nbformat_minor": 5
}
